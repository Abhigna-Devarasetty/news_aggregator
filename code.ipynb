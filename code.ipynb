{
 "cells": [
  {
   "cell_type": "markdown",
   "metadata": {
    "id": "k36IXX4-yOda"
   },
   "source": [
    "# News Aggregator"
   ]
  },
  {
   "cell_type": "markdown",
   "metadata": {
    "id": "M6_O79l7yOdb"
   },
   "source": [
    "## Problem Statement"
   ]
  },
  {
   "cell_type": "markdown",
   "metadata": {
    "id": "7sAWcRYTyOdb"
   },
   "source": [
    "Will fill it now, focusing on the code as of now"
   ]
  },
  {
   "cell_type": "markdown",
   "metadata": {
    "id": "A_uQGNvQyOdb"
   },
   "source": [
    "## Code"
   ]
  },
  {
   "cell_type": "markdown",
   "metadata": {
    "id": "OwDvI5TOyOdb"
   },
   "source": [
    "### Importing required libraries"
   ]
  },
  {
   "cell_type": "code",
   "execution_count": 68,
   "metadata": {
    "colab": {
     "base_uri": "https://localhost:8080/"
    },
    "id": "BFRuTALnyOdb",
    "outputId": "bde60e4c-eb2b-45eb-ff57-1e8784cc6841"
   },
   "outputs": [
    {
     "name": "stdout",
     "output_type": "stream",
     "text": [
      "Requirement already satisfied: langchain in /usr/local/lib/python3.11/dist-packages (0.3.15)\n",
      "Requirement already satisfied: newsapi-python in /usr/local/lib/python3.11/dist-packages (0.2.7)\n",
      "Requirement already satisfied: transformers in /usr/local/lib/python3.11/dist-packages (4.47.1)\n",
      "Requirement already satisfied: datasets in /usr/local/lib/python3.11/dist-packages (3.2.0)\n",
      "Requirement already satisfied: rouge-score in /usr/local/lib/python3.11/dist-packages (0.1.2)\n",
      "Requirement already satisfied: sentence-transformers in /usr/local/lib/python3.11/dist-packages (3.3.1)\n",
      "Requirement already satisfied: langchain_community in /usr/local/lib/python3.11/dist-packages (0.3.15)\n",
      "Requirement already satisfied: PyYAML>=5.3 in /usr/local/lib/python3.11/dist-packages (from langchain) (6.0.2)\n",
      "Requirement already satisfied: SQLAlchemy<3,>=1.4 in /usr/local/lib/python3.11/dist-packages (from langchain) (2.0.37)\n",
      "Requirement already satisfied: aiohttp<4.0.0,>=3.8.3 in /usr/local/lib/python3.11/dist-packages (from langchain) (3.11.11)\n",
      "Requirement already satisfied: langchain-core<0.4.0,>=0.3.31 in /usr/local/lib/python3.11/dist-packages (from langchain) (0.3.31)\n",
      "Requirement already satisfied: langchain-text-splitters<0.4.0,>=0.3.3 in /usr/local/lib/python3.11/dist-packages (from langchain) (0.3.5)\n",
      "Requirement already satisfied: langsmith<0.4,>=0.1.17 in /usr/local/lib/python3.11/dist-packages (from langchain) (0.3.0)\n",
      "Requirement already satisfied: numpy<2,>=1.22.4 in /usr/local/lib/python3.11/dist-packages (from langchain) (1.26.4)\n",
      "Requirement already satisfied: pydantic<3.0.0,>=2.7.4 in /usr/local/lib/python3.11/dist-packages (from langchain) (2.10.5)\n",
      "Requirement already satisfied: requests<3,>=2 in /usr/local/lib/python3.11/dist-packages (from langchain) (2.32.3)\n",
      "Requirement already satisfied: tenacity!=8.4.0,<10,>=8.1.0 in /usr/local/lib/python3.11/dist-packages (from langchain) (9.0.0)\n",
      "Requirement already satisfied: filelock in /usr/local/lib/python3.11/dist-packages (from transformers) (3.17.0)\n",
      "Requirement already satisfied: huggingface-hub<1.0,>=0.24.0 in /usr/local/lib/python3.11/dist-packages (from transformers) (0.27.1)\n",
      "Requirement already satisfied: packaging>=20.0 in /usr/local/lib/python3.11/dist-packages (from transformers) (24.2)\n",
      "Requirement already satisfied: regex!=2019.12.17 in /usr/local/lib/python3.11/dist-packages (from transformers) (2024.11.6)\n",
      "Requirement already satisfied: tokenizers<0.22,>=0.21 in /usr/local/lib/python3.11/dist-packages (from transformers) (0.21.0)\n",
      "Requirement already satisfied: safetensors>=0.4.1 in /usr/local/lib/python3.11/dist-packages (from transformers) (0.5.2)\n",
      "Requirement already satisfied: tqdm>=4.27 in /usr/local/lib/python3.11/dist-packages (from transformers) (4.67.1)\n",
      "Requirement already satisfied: pyarrow>=15.0.0 in /usr/local/lib/python3.11/dist-packages (from datasets) (17.0.0)\n",
      "Requirement already satisfied: dill<0.3.9,>=0.3.0 in /usr/local/lib/python3.11/dist-packages (from datasets) (0.3.8)\n",
      "Requirement already satisfied: pandas in /usr/local/lib/python3.11/dist-packages (from datasets) (2.2.2)\n",
      "Requirement already satisfied: xxhash in /usr/local/lib/python3.11/dist-packages (from datasets) (3.5.0)\n",
      "Requirement already satisfied: multiprocess<0.70.17 in /usr/local/lib/python3.11/dist-packages (from datasets) (0.70.16)\n",
      "Requirement already satisfied: fsspec<=2024.9.0,>=2023.1.0 in /usr/local/lib/python3.11/dist-packages (from fsspec[http]<=2024.9.0,>=2023.1.0->datasets) (2024.9.0)\n",
      "Requirement already satisfied: absl-py in /usr/local/lib/python3.11/dist-packages (from rouge-score) (1.4.0)\n",
      "Requirement already satisfied: nltk in /usr/local/lib/python3.11/dist-packages (from rouge-score) (3.9.1)\n",
      "Requirement already satisfied: six>=1.14.0 in /usr/local/lib/python3.11/dist-packages (from rouge-score) (1.17.0)\n",
      "Requirement already satisfied: torch>=1.11.0 in /usr/local/lib/python3.11/dist-packages (from sentence-transformers) (2.5.1+cu121)\n",
      "Requirement already satisfied: scikit-learn in /usr/local/lib/python3.11/dist-packages (from sentence-transformers) (1.6.1)\n",
      "Requirement already satisfied: scipy in /usr/local/lib/python3.11/dist-packages (from sentence-transformers) (1.13.1)\n",
      "Requirement already satisfied: Pillow in /usr/local/lib/python3.11/dist-packages (from sentence-transformers) (11.1.0)\n",
      "Requirement already satisfied: dataclasses-json<0.7,>=0.5.7 in /usr/local/lib/python3.11/dist-packages (from langchain_community) (0.6.7)\n",
      "Requirement already satisfied: httpx-sse<0.5.0,>=0.4.0 in /usr/local/lib/python3.11/dist-packages (from langchain_community) (0.4.0)\n",
      "Requirement already satisfied: pydantic-settings<3.0.0,>=2.4.0 in /usr/local/lib/python3.11/dist-packages (from langchain_community) (2.7.1)\n",
      "Requirement already satisfied: aiohappyeyeballs>=2.3.0 in /usr/local/lib/python3.11/dist-packages (from aiohttp<4.0.0,>=3.8.3->langchain) (2.4.4)\n",
      "Requirement already satisfied: aiosignal>=1.1.2 in /usr/local/lib/python3.11/dist-packages (from aiohttp<4.0.0,>=3.8.3->langchain) (1.3.2)\n",
      "Requirement already satisfied: attrs>=17.3.0 in /usr/local/lib/python3.11/dist-packages (from aiohttp<4.0.0,>=3.8.3->langchain) (24.3.0)\n",
      "Requirement already satisfied: frozenlist>=1.1.1 in /usr/local/lib/python3.11/dist-packages (from aiohttp<4.0.0,>=3.8.3->langchain) (1.5.0)\n",
      "Requirement already satisfied: multidict<7.0,>=4.5 in /usr/local/lib/python3.11/dist-packages (from aiohttp<4.0.0,>=3.8.3->langchain) (6.1.0)\n",
      "Requirement already satisfied: propcache>=0.2.0 in /usr/local/lib/python3.11/dist-packages (from aiohttp<4.0.0,>=3.8.3->langchain) (0.2.1)\n",
      "Requirement already satisfied: yarl<2.0,>=1.17.0 in /usr/local/lib/python3.11/dist-packages (from aiohttp<4.0.0,>=3.8.3->langchain) (1.18.3)\n",
      "Requirement already satisfied: marshmallow<4.0.0,>=3.18.0 in /usr/local/lib/python3.11/dist-packages (from dataclasses-json<0.7,>=0.5.7->langchain_community) (3.26.0)\n",
      "Requirement already satisfied: typing-inspect<1,>=0.4.0 in /usr/local/lib/python3.11/dist-packages (from dataclasses-json<0.7,>=0.5.7->langchain_community) (0.9.0)\n",
      "Requirement already satisfied: typing-extensions>=3.7.4.3 in /usr/local/lib/python3.11/dist-packages (from huggingface-hub<1.0,>=0.24.0->transformers) (4.12.2)\n",
      "Requirement already satisfied: jsonpatch<2.0,>=1.33 in /usr/local/lib/python3.11/dist-packages (from langchain-core<0.4.0,>=0.3.31->langchain) (1.33)\n",
      "Requirement already satisfied: httpx<1,>=0.23.0 in /usr/local/lib/python3.11/dist-packages (from langsmith<0.4,>=0.1.17->langchain) (0.28.1)\n",
      "Requirement already satisfied: orjson<4.0.0,>=3.9.14 in /usr/local/lib/python3.11/dist-packages (from langsmith<0.4,>=0.1.17->langchain) (3.10.15)\n",
      "Requirement already satisfied: requests-toolbelt<2.0.0,>=1.0.0 in /usr/local/lib/python3.11/dist-packages (from langsmith<0.4,>=0.1.17->langchain) (1.0.0)\n",
      "Requirement already satisfied: zstandard<0.24.0,>=0.23.0 in /usr/local/lib/python3.11/dist-packages (from langsmith<0.4,>=0.1.17->langchain) (0.23.0)\n",
      "Requirement already satisfied: annotated-types>=0.6.0 in /usr/local/lib/python3.11/dist-packages (from pydantic<3.0.0,>=2.7.4->langchain) (0.7.0)\n",
      "Requirement already satisfied: pydantic-core==2.27.2 in /usr/local/lib/python3.11/dist-packages (from pydantic<3.0.0,>=2.7.4->langchain) (2.27.2)\n",
      "Requirement already satisfied: python-dotenv>=0.21.0 in /usr/local/lib/python3.11/dist-packages (from pydantic-settings<3.0.0,>=2.4.0->langchain_community) (1.0.1)\n",
      "Requirement already satisfied: charset-normalizer<4,>=2 in /usr/local/lib/python3.11/dist-packages (from requests<3,>=2->langchain) (3.4.1)\n",
      "Requirement already satisfied: idna<4,>=2.5 in /usr/local/lib/python3.11/dist-packages (from requests<3,>=2->langchain) (3.10)\n",
      "Requirement already satisfied: urllib3<3,>=1.21.1 in /usr/local/lib/python3.11/dist-packages (from requests<3,>=2->langchain) (2.3.0)\n",
      "Requirement already satisfied: certifi>=2017.4.17 in /usr/local/lib/python3.11/dist-packages (from requests<3,>=2->langchain) (2024.12.14)\n",
      "Requirement already satisfied: greenlet!=0.4.17 in /usr/local/lib/python3.11/dist-packages (from SQLAlchemy<3,>=1.4->langchain) (3.1.1)\n",
      "Requirement already satisfied: networkx in /usr/local/lib/python3.11/dist-packages (from torch>=1.11.0->sentence-transformers) (3.4.2)\n",
      "Requirement already satisfied: jinja2 in /usr/local/lib/python3.11/dist-packages (from torch>=1.11.0->sentence-transformers) (3.1.5)\n",
      "Requirement already satisfied: nvidia-cuda-nvrtc-cu12==12.1.105 in /usr/local/lib/python3.11/dist-packages (from torch>=1.11.0->sentence-transformers) (12.1.105)\n",
      "Requirement already satisfied: nvidia-cuda-runtime-cu12==12.1.105 in /usr/local/lib/python3.11/dist-packages (from torch>=1.11.0->sentence-transformers) (12.1.105)\n",
      "Requirement already satisfied: nvidia-cuda-cupti-cu12==12.1.105 in /usr/local/lib/python3.11/dist-packages (from torch>=1.11.0->sentence-transformers) (12.1.105)\n",
      "Requirement already satisfied: nvidia-cudnn-cu12==9.1.0.70 in /usr/local/lib/python3.11/dist-packages (from torch>=1.11.0->sentence-transformers) (9.1.0.70)\n",
      "Requirement already satisfied: nvidia-cublas-cu12==12.1.3.1 in /usr/local/lib/python3.11/dist-packages (from torch>=1.11.0->sentence-transformers) (12.1.3.1)\n",
      "Requirement already satisfied: nvidia-cufft-cu12==11.0.2.54 in /usr/local/lib/python3.11/dist-packages (from torch>=1.11.0->sentence-transformers) (11.0.2.54)\n",
      "Requirement already satisfied: nvidia-curand-cu12==10.3.2.106 in /usr/local/lib/python3.11/dist-packages (from torch>=1.11.0->sentence-transformers) (10.3.2.106)\n",
      "Requirement already satisfied: nvidia-cusolver-cu12==11.4.5.107 in /usr/local/lib/python3.11/dist-packages (from torch>=1.11.0->sentence-transformers) (11.4.5.107)\n",
      "Requirement already satisfied: nvidia-cusparse-cu12==12.1.0.106 in /usr/local/lib/python3.11/dist-packages (from torch>=1.11.0->sentence-transformers) (12.1.0.106)\n",
      "Requirement already satisfied: nvidia-nccl-cu12==2.21.5 in /usr/local/lib/python3.11/dist-packages (from torch>=1.11.0->sentence-transformers) (2.21.5)\n",
      "Requirement already satisfied: nvidia-nvtx-cu12==12.1.105 in /usr/local/lib/python3.11/dist-packages (from torch>=1.11.0->sentence-transformers) (12.1.105)\n",
      "Requirement already satisfied: triton==3.1.0 in /usr/local/lib/python3.11/dist-packages (from torch>=1.11.0->sentence-transformers) (3.1.0)\n",
      "Requirement already satisfied: sympy==1.13.1 in /usr/local/lib/python3.11/dist-packages (from torch>=1.11.0->sentence-transformers) (1.13.1)\n",
      "Requirement already satisfied: nvidia-nvjitlink-cu12 in /usr/local/lib/python3.11/dist-packages (from nvidia-cusolver-cu12==11.4.5.107->torch>=1.11.0->sentence-transformers) (12.6.85)\n",
      "Requirement already satisfied: mpmath<1.4,>=1.1.0 in /usr/local/lib/python3.11/dist-packages (from sympy==1.13.1->torch>=1.11.0->sentence-transformers) (1.3.0)\n",
      "Requirement already satisfied: click in /usr/local/lib/python3.11/dist-packages (from nltk->rouge-score) (8.1.8)\n",
      "Requirement already satisfied: joblib in /usr/local/lib/python3.11/dist-packages (from nltk->rouge-score) (1.4.2)\n",
      "Requirement already satisfied: python-dateutil>=2.8.2 in /usr/local/lib/python3.11/dist-packages (from pandas->datasets) (2.8.2)\n",
      "Requirement already satisfied: pytz>=2020.1 in /usr/local/lib/python3.11/dist-packages (from pandas->datasets) (2024.2)\n",
      "Requirement already satisfied: tzdata>=2022.7 in /usr/local/lib/python3.11/dist-packages (from pandas->datasets) (2025.1)\n",
      "Requirement already satisfied: threadpoolctl>=3.1.0 in /usr/local/lib/python3.11/dist-packages (from scikit-learn->sentence-transformers) (3.5.0)\n",
      "Requirement already satisfied: anyio in /usr/local/lib/python3.11/dist-packages (from httpx<1,>=0.23.0->langsmith<0.4,>=0.1.17->langchain) (3.7.1)\n",
      "Requirement already satisfied: httpcore==1.* in /usr/local/lib/python3.11/dist-packages (from httpx<1,>=0.23.0->langsmith<0.4,>=0.1.17->langchain) (1.0.7)\n",
      "Requirement already satisfied: h11<0.15,>=0.13 in /usr/local/lib/python3.11/dist-packages (from httpcore==1.*->httpx<1,>=0.23.0->langsmith<0.4,>=0.1.17->langchain) (0.14.0)\n",
      "Requirement already satisfied: jsonpointer>=1.9 in /usr/local/lib/python3.11/dist-packages (from jsonpatch<2.0,>=1.33->langchain-core<0.4.0,>=0.3.31->langchain) (3.0.0)\n",
      "Requirement already satisfied: mypy-extensions>=0.3.0 in /usr/local/lib/python3.11/dist-packages (from typing-inspect<1,>=0.4.0->dataclasses-json<0.7,>=0.5.7->langchain_community) (1.0.0)\n",
      "Requirement already satisfied: MarkupSafe>=2.0 in /usr/local/lib/python3.11/dist-packages (from jinja2->torch>=1.11.0->sentence-transformers) (3.0.2)\n",
      "Requirement already satisfied: sniffio>=1.1 in /usr/local/lib/python3.11/dist-packages (from anyio->httpx<1,>=0.23.0->langsmith<0.4,>=0.1.17->langchain) (1.3.1)\n"
     ]
    }
   ],
   "source": [
    "### Installing required packages/ libraries\n",
    "!pip3 install langchain newsapi-python transformers datasets rouge-score sentence-transformers langchain_community"
   ]
  },
  {
   "cell_type": "code",
   "execution_count": 69,
   "metadata": {
    "id": "RRWr6Sv2yOdc"
   },
   "outputs": [],
   "source": [
    "import os\n",
    "import torch\n",
    "from datetime import datetime, timedelta\n",
    "from newsapi import NewsApiClient\n",
    "import pandas as pd\n",
    "from langchain.chains import TransformChain, SequentialChain\n",
    "from langchain.llms import HuggingFacePipeline\n",
    "from transformers import (\n",
    "    T5Tokenizer,\n",
    "    T5ForConditionalGeneration,\n",
    "    pipeline,\n",
    "    TrainingArguments,\n",
    "    Trainer\n",
    ")\n",
    "from datasets import load_dataset, Dataset\n",
    "from sentence_transformers import SentenceTransformer\n",
    "from sklearn.metrics.pairwise import cosine_similarity"
   ]
  },
  {
   "cell_type": "markdown",
   "metadata": {
    "id": "o1aaXdx2yOdc"
   },
   "source": [
    "### Configuration"
   ]
  },
  {
   "cell_type": "code",
   "execution_count": 70,
   "metadata": {
    "id": "1fL93RQayOdc"
   },
   "outputs": [],
   "source": [
    "# Configuration\n",
    "# NEWSAPI_KEY = \"2e44f6aa50bc4b6ab70dca723a81186d\"\n",
    "NEWSAPI_KEY = \"d4db0b297bc5417ebe3612a8288d1863\"\n",
    "# TOPICS = [\"security systems\", \"camera access\", \"voip\", \"broadband\", \"phone services\"]\n",
    "TOPICS = [\"technology\", \"business\", \"health\", \"politics\", \"sports\", \"science\", \"entertainment\", \"climate change\", \"artificial intelligence\", \"cryptocurrency\"]\n",
    "# TOPICS = [\n",
    "#     # Security Systems\n",
    "#     \"home security\", \"security solutions\", \"smart security\", \"alarm systems\",\n",
    "#     \"CCTV\", \"intrusion detection\", \"access control\", \"security technology\",\n",
    "#     \"surveillance\", \"security equipment\", \"monitoring systems\",\n",
    "\n",
    "#     # Camera Access\n",
    "#     \"remote monitoring\", \"camera surveillance\", \"IP cameras\",\n",
    "#     \"video surveillance\", \"smart cameras\", \"surveillance cameras\",\n",
    "#     \"home monitoring\", \"live camera feed\", \"camera security solutions\",\n",
    "\n",
    "#     # VoIP (Voice Over IP)\n",
    "#     \"internet telephony\", \"IP telephony\", \"VoIP solutions\",\n",
    "#     \"softphones\", \"VoIP communication\", \"VoIP technology\",\n",
    "#     \"internet calling\", \"voice communication\", \"digital telephony\",\n",
    "#     \"cloud telephony\",\n",
    "\n",
    "#     # Broadband\n",
    "#     \"high-speed internet\", \"fiber internet\", \"broadband services\",\n",
    "#     \"internet service providers\", \"Wi-Fi\", \"broadband connectivity\",\n",
    "#     \"network solutions\", \"internet technology\", \"ISP services\",\n",
    "\n",
    "#     # Phone Services\n",
    "#     \"telecommunication services\", \"mobile phone services\",\n",
    "#     \"landline services\", \"business telephony\", \"phone systems\",\n",
    "#     \"communication services\", \"voice services\", \"telecom solutions\",\n",
    "\n",
    "#     # General Keywords\n",
    "#     \"Lisbon Creek technology\", \"small business security\", \"commercial security\",\n",
    "#     \"smart home devices\", \"IoT in security\", \"telecom trends\",\n",
    "#     \"cloud security\", \"network monitoring\"\n",
    "# ]\n",
    "RELEVANCE_THRESHOLD = 0.01\n",
    "\n",
    "# Initialize NewsAPI\n",
    "newsapi = NewsApiClient(api_key=NEWSAPI_KEY)"
   ]
  },
  {
   "cell_type": "markdown",
   "metadata": {
    "id": "DT-2990EyOdc"
   },
   "source": [
    "### Fetching Articles from NewsAPI"
   ]
  },
  {
   "cell_type": "code",
   "execution_count": 71,
   "metadata": {
    "id": "DRcOjREMyOdc"
   },
   "outputs": [],
   "source": [
    "# Fetching articles from last 3 days from NewsAPI for the topics related to Client\n",
    "def fetch_tech_articles():\n",
    "    end_date = datetime.now().strftime('%Y-%m-%d')\n",
    "    start_date = (datetime.now() - timedelta(days=1)).strftime('%Y-%m-%d')\n",
    "\n",
    "    all_articles = []\n",
    "    for topic in TOPICS:\n",
    "        response = newsapi.get_everything(\n",
    "            q=topic,\n",
    "            from_param=start_date,\n",
    "            to=end_date,\n",
    "            language='en',\n",
    "            sort_by='relevancy',\n",
    "            page_size=100  # Maximum as it is in developer mode\n",
    "        )\n",
    "        all_articles.extend(response['articles'])\n",
    "\n",
    "    return pd.DataFrame(all_articles)"
   ]
  },
  {
   "cell_type": "markdown",
   "metadata": {
    "id": "mTE_lqr6yOdc"
   },
   "source": [
    "### Relevance checking for articles fetched from NewsAPI"
   ]
  },
  {
   "cell_type": "code",
   "execution_count": 72,
   "metadata": {
    "id": "qMMF9wJ2yOdc"
   },
   "outputs": [],
   "source": [
    "# Zero-shot relevance check to check the relevance of the articles fetched from NewsAPI\n",
    "class RelevanceChecker:\n",
    "    def __init__(self):\n",
    "        self.model = SentenceTransformer('all-MiniLM-L6-v2')\n",
    "        self.topic_descriptions = [\n",
    "            \"Technical articles about physical or digital security systems\",\n",
    "            \"News about camera technology and surveillance systems\",\n",
    "            \"Voice over IP services and related technologies\",\n",
    "            \"Broadband internet infrastructure and services\",\n",
    "            \"Mobile phone services and telecommunications\"\n",
    "        ]\n",
    "        self.topic_embeddings = self.model.encode(self.topic_descriptions)\n",
    "\n",
    "    def is_relevant(self, text, threshold=RELEVANCE_THRESHOLD):\n",
    "        if not text or len(text) < 100:  # Skip short content\n",
    "            return False\n",
    "        text_embedding = self.model.encode([text])\n",
    "        similarity = cosine_similarity(text_embedding, self.topic_embeddings)\n",
    "        return similarity.max() > threshold\n",
    "\n",
    "# Initialize once\n",
    "relevance_checker = RelevanceChecker()"
   ]
  },
  {
   "cell_type": "markdown",
   "metadata": {
    "id": "tCt3E0AlyOdc"
   },
   "source": [
    "### Preprocessing"
   ]
  },
  {
   "cell_type": "code",
   "execution_count": 73,
   "metadata": {
    "id": "ErPhL5mFyOdc"
   },
   "outputs": [],
   "source": [
    "def preprocess_articles(df):\n",
    "    # Clean and deduplicate\n",
    "    df = df.drop_duplicates(subset=['title'])\n",
    "    df = df[df['content'].notna()]\n",
    "    df['content'] = df['content'].str.split('…').str[0].str.strip()\n",
    "    # return df['content']\n",
    "    # Filter relevant articles\n",
    "    df['is_relevant'] = df['content'].apply(relevance_checker.is_relevant)\n",
    "    return df[df['is_relevant']].reset_index(drop=True)"
   ]
  },
  {
   "cell_type": "markdown",
   "metadata": {
    "id": "aC8nQ7FDyOdd"
   },
   "source": [
    "### Loading the T5 models (T5-small, T5-base, distilT5)"
   ]
  },
  {
   "cell_type": "code",
   "execution_count": 74,
   "metadata": {
    "id": "HhN53C_qyOdd"
   },
   "outputs": [],
   "source": [
    "def load_summarization_models():\n",
    "    # Load T5-Small\n",
    "    t5_small = pipeline(\n",
    "        \"text2text-generation\",\n",
    "        model=\"t5-small\",\n",
    "        device=0 if torch.cuda.is_available() else -1\n",
    "    )\n",
    "\n",
    "    #Load T5-Base\n",
    "    t5_base = pipeline(\n",
    "        \"text2text-generation\",\n",
    "        model=\"t5-base\",\n",
    "        device=0 if torch.cuda.is_available() else -1\n",
    "    )\n",
    "\n",
    "    # Load DistilT5\n",
    "    # distil_t5 = pipeline(\n",
    "    #     \"text2text-generation\",\n",
    "    #     model=\"mrm8488/distilT5-base-finetuned-summarize-news\",\n",
    "    #     device=0 if torch.cuda.is_available() else -1\n",
    "    # )\n",
    "    # distil_t5 = pipeline(\n",
    "    #     \"text2text-generation\",\n",
    "    #     model=\"dropout05/lfom_distilt5_realnewslike\",\n",
    "    #     device=0 if torch.cuda.is_available() else -1)\n",
    "\n",
    "    return {\n",
    "        \"t5_small\": t5_small,\n",
    "        \"t5_base\": t5_base,\n",
    "        # \"distil_t5\": distil_t5\n",
    "    }"
   ]
  },
  {
   "cell_type": "markdown",
   "metadata": {
    "id": "L1CEipfVyOdd"
   },
   "source": [
    "### Summarizing the articles"
   ]
  },
  {
   "cell_type": "code",
   "execution_count": 75,
   "metadata": {
    "id": "znaMkCVdyOdd"
   },
   "outputs": [],
   "source": [
    "def summarize_articles(df, models):\n",
    "    results = []\n",
    "    for idx, row in df.iterrows():\n",
    "        try:\n",
    "            summaries = {\n",
    "                \"title\": row[\"title\"],\n",
    "                \"url\": row[\"url\"],\n",
    "                \"published\": row[\"publishedAt\"]\n",
    "            }\n",
    "            for model_name, model in models.items():\n",
    "                summary = model(\n",
    "                    \"summarize: \" + row[\"content\"],\n",
    "                    max_length=150,\n",
    "                    min_length=30,\n",
    "                    truncation=True\n",
    "                )[0]['generated_text']\n",
    "                summaries[model_name] = summary\n",
    "            results.append(summaries)\n",
    "        except Exception as e:\n",
    "            print(f\"Error processing {row['title']}: {str(e)}\")\n",
    "    return pd.DataFrame(results)"
   ]
  },
  {
   "cell_type": "markdown",
   "metadata": {
    "id": "IfkjgF3FyOdd"
   },
   "source": [
    "### Finetuning the model (Optional, not doing it for now)"
   ]
  },
  {
   "cell_type": "code",
   "execution_count": 76,
   "metadata": {
    "id": "LO7-pw6uyOdd"
   },
   "outputs": [],
   "source": [
    "def fine_tune_model(model_name, dataset):\n",
    "    tokenizer = T5Tokenizer.from_pretrained(model_name)\n",
    "    model = T5ForConditionalGeneration.from_pretrained(model_name)\n",
    "\n",
    "    def preprocess(examples):\n",
    "        inputs = tokenizer(\"summarize: \" + examples[\"article\"], max_length=512, truncation=True, padding=\"max_length\")\n",
    "        labels = tokenizer(examples[\"summary\"], max_length=150, truncation=True, padding=\"max_length\")\n",
    "        return {\"input_ids\": inputs[\"input_ids\"], \"attention_mask\": inputs[\"attention_mask\"], \"labels\": labels[\"input_ids\"]}\n",
    "\n",
    "    tokenized_data = dataset.map(preprocess, batched=True)\n",
    "\n",
    "    training_args = TrainingArguments(\n",
    "        output_dir=f\"./{model_name}_fine_tuned\",\n",
    "        num_train_epochs=3,\n",
    "        per_device_train_batch_size=4,\n",
    "        logging_dir=\"./logs\",\n",
    "    )\n",
    "\n",
    "    trainer = Trainer(\n",
    "        model=model,\n",
    "        args=training_args,\n",
    "        train_dataset=tokenized_data,\n",
    "    )\n",
    "    trainer.train()\n",
    "    model.save_pretrained(f\"./{model_name}_fine_tuned\")\n"
   ]
  },
  {
   "cell_type": "markdown",
   "metadata": {
    "id": "ixL6auHCyOdd"
   },
   "source": [
    "### Final Execution"
   ]
  },
  {
   "cell_type": "code",
   "execution_count": 77,
   "metadata": {
    "colab": {
     "base_uri": "https://localhost:8080/"
    },
    "id": "G3pHsgMNyOdd",
    "outputId": "9045ae07-8c21-4ef8-c2b4-4be949d43a74"
   },
   "outputs": [
    {
     "name": "stdout",
     "output_type": "stream",
     "text": [
      "Fetched 372 relevant articles.\n"
     ]
    },
    {
     "name": "stderr",
     "output_type": "stream",
     "text": [
      "Device set to use cuda:0\n",
      "Device set to use cuda:0\n",
      "Asking to truncate to max_length but no maximum length is provided and the model has no predefined maximum length. Default to no truncation.\n"
     ]
    },
    {
     "name": "stdout",
     "output_type": "stream",
     "text": [
      "Summaries saved to 'tech_news_summaries.csv'.\n"
     ]
    }
   ],
   "source": [
    "if __name__ == \"__main__\":\n",
    "    # Step 1: Fetch and preprocess articles\n",
    "    raw_df = fetch_tech_articles()\n",
    "    preprocessed_df = preprocess_articles(raw_df)\n",
    "    print(f\"Fetched {len(preprocessed_df)} relevant articles.\")\n",
    "\n",
    "    # Step 2: Load summarization models\n",
    "    models = load_summarization_models()\n",
    "\n",
    "    # Step 3: Summarize articles with all models\n",
    "    summaries_df = summarize_articles(preprocessed_df, models)\n",
    "    summaries_df.to_csv(\"tech_news_summaries.csv\", index=False)\n",
    "    print(\"Summaries saved to 'tech_news_summaries.csv'.\")\n",
    "\n",
    "    # Step 4: Fine-tune models (optional, requires GPU)\n",
    "    # Uncomment to fine-tune\n",
    "    # fine_tune_model(\"t5-small\", dataset)\n",
    "    # fine_tune_model(\"t5-base\", dataset)\n",
    "    # fine_tune_model(\"mrm8488/distilT5-base-finetuned-summarize-news\", dataset)"
   ]
  },
  {
   "cell_type": "code",
   "execution_count": 77,
   "metadata": {
    "id": "xvZpwUDYyOdd"
   },
   "outputs": [],
   "source": []
  },
  {
   "cell_type": "code",
   "execution_count": 77,
   "metadata": {
    "id": "GL2JNfnUyOdd"
   },
   "outputs": [],
   "source": []
  }
 ],
 "metadata": {
  "accelerator": "GPU",
  "colab": {
   "gpuType": "T4",
   "provenance": []
  },
  "kernelspec": {
   "display_name": "Python 3 (ipykernel)",
   "language": "python",
   "name": "python3"
  },
  "language_info": {
   "codemirror_mode": {
    "name": "ipython",
    "version": 3
   },
   "file_extension": ".py",
   "mimetype": "text/x-python",
   "name": "python",
   "nbconvert_exporter": "python",
   "pygments_lexer": "ipython3",
   "version": "3.12.7"
  },
  "vscode": {
   "interpreter": {
    "hash": "7500c3e1c7c786e4ba1e4b4eb7588219b4e35d5153674f92eb3a82672b534f6e"
   }
  }
 },
 "nbformat": 4,
 "nbformat_minor": 4
}
